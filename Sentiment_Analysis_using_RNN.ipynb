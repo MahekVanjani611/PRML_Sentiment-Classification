{
  "metadata": {
    "kernelspec": {
      "language": "python",
      "display_name": "Python 3",
      "name": "python3"
    },
    "language_info": {
      "name": "python",
      "version": "3.10.12",
      "mimetype": "text/x-python",
      "codemirror_mode": {
        "name": "ipython",
        "version": 3
      },
      "pygments_lexer": "ipython3",
      "nbconvert_exporter": "python",
      "file_extension": ".py"
    },
    "kaggle": {
      "accelerator": "none",
      "dataSources": [
        {
          "sourceId": 1808590,
          "sourceType": "datasetVersion",
          "datasetId": 989445
        }
      ],
      "dockerImageVersionId": 30626,
      "isInternetEnabled": true,
      "language": "python",
      "sourceType": "notebook",
      "isGpuEnabled": false
    },
    "colab": {
      "provenance": []
    }
  },
  "nbformat_minor": 0,
  "nbformat": 4,
  "cells": [
    {
      "source": [
        "import os\n",
        "import sys\n",
        "from tempfile import NamedTemporaryFile\n",
        "from urllib.request import urlopen\n",
        "from urllib.parse import unquote, urlparse\n",
        "from urllib.error import HTTPError\n",
        "from zipfile import ZipFile\n",
        "import tarfile\n",
        "import shutil\n",
        "\n",
        "CHUNK_SIZE = 40960\n",
        "DATA_SOURCE_MAPPING = 'sentiment-analysis-dataset:https%3A%2F%2Fstorage.googleapis.com%2Fkaggle-data-sets%2F989445%2F1808590%2Fbundle%2Farchive.zip%3FX-Goog-Algorithm%3DGOOG4-RSA-SHA256%26X-Goog-Credential%3Dgcp-kaggle-com%2540kaggle-161607.iam.gserviceaccount.com%252F20240625%252Fauto%252Fstorage%252Fgoog4_request%26X-Goog-Date%3D20240625T040545Z%26X-Goog-Expires%3D259200%26X-Goog-SignedHeaders%3Dhost%26X-Goog-Signature%3D337cd76f3098816889fbb5f6428aaa21dbff4e2cc06907c8b942d41c0ee2c5d6bac0b684e4ffc425f3fdd89cf797864c6731c51d3da62938f597c52ef3d9f9f2f84265b49c58608c35df5e044427354426da40278f7894b0c2e7d2a4ba0a18e9740a64dd00e8b29947ebf131edc9891dee0d89aeb44e105415f20cf722b6824c4bb1a5206212cdb5e404152368f8bfa49d4afd3456572984cb0db30c09cc55aedfcc94e2ea9f8696b7416415f82b89e93ed85edc2428c9a8b05ae3c6e4f62ad31a4ae836056851ff3df323d8f73402d022aaa11ef9d03f4e38547d59c87cf3b09fbe2a8d8580de1dee7accb7b6e78eb20639e36dc2d760de7a23c978e12353ab'\n",
        "\n",
        "KAGGLE_INPUT_PATH='/kaggle/input'\n",
        "KAGGLE_WORKING_PATH='/kaggle/working'\n",
        "KAGGLE_SYMLINK='kaggle'\n",
        "\n",
        "!umount /kaggle/input/ 2> /dev/null\n",
        "shutil.rmtree('/kaggle/input', ignore_errors=True)\n",
        "os.makedirs(KAGGLE_INPUT_PATH, 0o777, exist_ok=True)\n",
        "os.makedirs(KAGGLE_WORKING_PATH, 0o777, exist_ok=True)\n",
        "\n",
        "try:\n",
        "  os.symlink(KAGGLE_INPUT_PATH, os.path.join(\"..\", 'input'), target_is_directory=True)\n",
        "except FileExistsError:\n",
        "  pass\n",
        "try:\n",
        "  os.symlink(KAGGLE_WORKING_PATH, os.path.join(\"..\", 'working'), target_is_directory=True)\n",
        "except FileExistsError:\n",
        "  pass\n",
        "\n",
        "for data_source_mapping in DATA_SOURCE_MAPPING.split(','):\n",
        "    directory, download_url_encoded = data_source_mapping.split(':')\n",
        "    download_url = unquote(download_url_encoded)\n",
        "    filename = urlparse(download_url).path\n",
        "    destination_path = os.path.join(KAGGLE_INPUT_PATH, directory)\n",
        "    try:\n",
        "        with urlopen(download_url) as fileres, NamedTemporaryFile() as tfile:\n",
        "            total_length = fileres.headers['content-length']\n",
        "            print(f'Downloading {directory}, {total_length} bytes compressed')\n",
        "            dl = 0\n",
        "            data = fileres.read(CHUNK_SIZE)\n",
        "            while len(data) > 0:\n",
        "                dl += len(data)\n",
        "                tfile.write(data)\n",
        "                done = int(50 * dl / int(total_length))\n",
        "                sys.stdout.write(f\"\\r[{'=' * done}{' ' * (50-done)}] {dl} bytes downloaded\")\n",
        "                sys.stdout.flush()\n",
        "                data = fileres.read(CHUNK_SIZE)\n",
        "            if filename.endswith('.zip'):\n",
        "              with ZipFile(tfile) as zfile:\n",
        "                zfile.extractall(destination_path)\n",
        "            else:\n",
        "              with tarfile.open(tfile.name) as tarfile:\n",
        "                tarfile.extractall(destination_path)\n",
        "            print(f'\\nDownloaded and uncompressed: {directory}')\n",
        "    except HTTPError as e:\n",
        "        print(f'Failed to load (likely expired) {download_url} to path {destination_path}')\n",
        "        continue\n",
        "    except OSError as e:\n",
        "        print(f'Failed to load {download_url} to path {destination_path}')\n",
        "        continue\n",
        "\n",
        "print('Data source import complete.')\n"
      ],
      "metadata": {
        "id": "4C2Uz7ffkkd3",
        "outputId": "8a40bbd2-a566-4b0c-ea1d-b46d38557343",
        "colab": {
          "base_uri": "https://localhost:8080/"
        }
      },
      "cell_type": "code",
      "outputs": [
        {
          "output_type": "stream",
          "name": "stdout",
          "text": [
            "Downloading sentiment-analysis-dataset, 57092644 bytes compressed\n",
            "[==================================================] 57092644 bytes downloaded\n",
            "Downloaded and uncompressed: sentiment-analysis-dataset\n",
            "Data source import complete.\n"
          ]
        }
      ],
      "execution_count": null
    },
    {
      "cell_type": "code",
      "source": [
        "from keras.preprocessing.text import Tokenizer\n",
        "from keras.utils import pad_sequences\n",
        "from keras import Sequential\n",
        "from keras.utils import to_categorical\n",
        "from keras.layers import Dense,SimpleRNN,Embedding,Flatten"
      ],
      "metadata": {
        "_uuid": "8f2839f25d086af736a60e9eeb907d3b93b6e0e5",
        "_cell_guid": "b1076dfc-b9ad-4769-8c92-a6c4dae69d19",
        "execution": {
          "iopub.status.busy": "2023-12-14T10:21:26.597416Z",
          "iopub.execute_input": "2023-12-14T10:21:26.597843Z",
          "iopub.status.idle": "2023-12-14T10:21:26.603846Z",
          "shell.execute_reply.started": "2023-12-14T10:21:26.59781Z",
          "shell.execute_reply": "2023-12-14T10:21:26.602684Z"
        },
        "trusted": true,
        "id": "MJPVa7qHkkd6"
      },
      "execution_count": null,
      "outputs": []
    },
    {
      "cell_type": "code",
      "source": [
        "import numpy as np\n",
        "import pandas as pd"
      ],
      "metadata": {
        "execution": {
          "iopub.status.busy": "2023-12-14T10:21:28.151275Z",
          "iopub.execute_input": "2023-12-14T10:21:28.15164Z",
          "iopub.status.idle": "2023-12-14T10:21:28.156278Z",
          "shell.execute_reply.started": "2023-12-14T10:21:28.151611Z",
          "shell.execute_reply": "2023-12-14T10:21:28.155202Z"
        },
        "trusted": true,
        "id": "DaIW0897kkd6"
      },
      "execution_count": null,
      "outputs": []
    },
    {
      "cell_type": "code",
      "source": [
        "train_ds = pd.read_csv('/kaggle/input/sentiment-analysis-dataset/train.csv',encoding='latin1');\n",
        "validation_ds = pd.read_csv('/kaggle/input/sentiment-analysis-dataset/test.csv',encoding='latin1');"
      ],
      "metadata": {
        "execution": {
          "iopub.status.busy": "2023-12-14T10:21:29.251673Z",
          "iopub.execute_input": "2023-12-14T10:21:29.252525Z",
          "iopub.status.idle": "2023-12-14T10:21:29.384744Z",
          "shell.execute_reply.started": "2023-12-14T10:21:29.252482Z",
          "shell.execute_reply": "2023-12-14T10:21:29.383863Z"
        },
        "trusted": true,
        "id": "QJVe6KvYkkd6"
      },
      "execution_count": null,
      "outputs": []
    },
    {
      "cell_type": "code",
      "source": [
        "train_ds = train_ds[['text','sentiment']]\n",
        "validation_ds = validation_ds[['text','sentiment']]"
      ],
      "metadata": {
        "execution": {
          "iopub.status.busy": "2023-12-14T10:21:30.650107Z",
          "iopub.execute_input": "2023-12-14T10:21:30.650498Z",
          "iopub.status.idle": "2023-12-14T10:21:30.661071Z",
          "shell.execute_reply.started": "2023-12-14T10:21:30.650468Z",
          "shell.execute_reply": "2023-12-14T10:21:30.659919Z"
        },
        "trusted": true,
        "id": "Z-amvxTwkkd7"
      },
      "execution_count": null,
      "outputs": []
    },
    {
      "cell_type": "code",
      "source": [
        "train_ds['text'].fillna('',inplace=True)\n",
        "validation_ds['text'].fillna('',inplace=True)"
      ],
      "metadata": {
        "execution": {
          "iopub.status.busy": "2023-12-14T10:21:32.202168Z",
          "iopub.execute_input": "2023-12-14T10:21:32.202615Z",
          "iopub.status.idle": "2023-12-14T10:21:32.213613Z",
          "shell.execute_reply.started": "2023-12-14T10:21:32.202578Z",
          "shell.execute_reply": "2023-12-14T10:21:32.212091Z"
        },
        "trusted": true,
        "id": "OuTuNcOfkkd7"
      },
      "execution_count": null,
      "outputs": []
    },
    {
      "cell_type": "code",
      "source": [
        "def func(sentiment):\n",
        "    if sentiment =='positive':\n",
        "        return 0;\n",
        "    elif sentiment =='negative':\n",
        "        return 1;\n",
        "    else:\n",
        "        return 2;\n",
        "train_ds['sentiment'] = train_ds['sentiment'].apply(func)\n",
        "validation_ds['sentiment'] = validation_ds['sentiment'].apply(func)"
      ],
      "metadata": {
        "execution": {
          "iopub.status.busy": "2023-12-14T10:21:33.611648Z",
          "iopub.execute_input": "2023-12-14T10:21:33.61202Z",
          "iopub.status.idle": "2023-12-14T10:21:33.634495Z",
          "shell.execute_reply.started": "2023-12-14T10:21:33.61199Z",
          "shell.execute_reply": "2023-12-14T10:21:33.633441Z"
        },
        "trusted": true,
        "id": "IeuxfQAekkd7"
      },
      "execution_count": null,
      "outputs": []
    },
    {
      "cell_type": "code",
      "source": [
        "x_train = np.array(train_ds['text'].tolist())\n",
        "y_train = np.array(train_ds['sentiment'].tolist())\n",
        "x_test = np.array(validation_ds['text'].tolist())\n",
        "y_test = np.array(validation_ds['sentiment'].tolist())"
      ],
      "metadata": {
        "execution": {
          "iopub.status.busy": "2023-12-14T10:21:58.144685Z",
          "iopub.execute_input": "2023-12-14T10:21:58.145092Z",
          "iopub.status.idle": "2023-12-14T10:21:58.167905Z",
          "shell.execute_reply.started": "2023-12-14T10:21:58.145056Z",
          "shell.execute_reply": "2023-12-14T10:21:58.166874Z"
        },
        "trusted": true,
        "id": "49MwA7Fkkkd7"
      },
      "execution_count": null,
      "outputs": []
    },
    {
      "cell_type": "code",
      "source": [
        "x_train"
      ],
      "metadata": {
        "execution": {
          "iopub.status.busy": "2023-12-14T10:21:59.941802Z",
          "iopub.execute_input": "2023-12-14T10:21:59.942687Z",
          "iopub.status.idle": "2023-12-14T10:21:59.951078Z",
          "shell.execute_reply.started": "2023-12-14T10:21:59.942638Z",
          "shell.execute_reply": "2023-12-14T10:21:59.949362Z"
        },
        "trusted": true,
        "id": "Gjw3HLlRkkd8",
        "outputId": "ac25cb43-1b0d-4490-90d1-74ff373e0f65",
        "colab": {
          "base_uri": "https://localhost:8080/"
        }
      },
      "execution_count": null,
      "outputs": [
        {
          "output_type": "execute_result",
          "data": {
            "text/plain": [
              "array([' I`d have responded, if I were going',\n",
              "       ' Sooo SAD I will miss you here in San Diego!!!',\n",
              "       'my boss is bullying me...', ...,\n",
              "       ' Yay good for both of you. Enjoy the break - you probably need it after such hectic weekend  Take care hun xxxx',\n",
              "       ' But it was worth it  ****.',\n",
              "       '   All this flirting going on - The ATG smiles. Yay.  ((hugs))'],\n",
              "      dtype='<U159')"
            ]
          },
          "metadata": {},
          "execution_count": 9
        }
      ]
    },
    {
      "cell_type": "code",
      "source": [
        "y_train"
      ],
      "metadata": {
        "execution": {
          "iopub.status.busy": "2023-12-14T10:22:38.592026Z",
          "iopub.execute_input": "2023-12-14T10:22:38.592436Z",
          "iopub.status.idle": "2023-12-14T10:22:38.599757Z",
          "shell.execute_reply.started": "2023-12-14T10:22:38.592401Z",
          "shell.execute_reply": "2023-12-14T10:22:38.598566Z"
        },
        "trusted": true,
        "id": "1szVlUnOkkd8",
        "outputId": "bb4cbea8-36d3-43e3-d335-1a211a8f76b6",
        "colab": {
          "base_uri": "https://localhost:8080/"
        }
      },
      "execution_count": null,
      "outputs": [
        {
          "output_type": "execute_result",
          "data": {
            "text/plain": [
              "array([2, 1, 1, ..., 0, 0, 2])"
            ]
          },
          "metadata": {},
          "execution_count": 10
        }
      ]
    },
    {
      "cell_type": "code",
      "source": [
        "y_train = to_categorical(y_train, 3)\n",
        "y_test = to_categorical(y_test, 3)"
      ],
      "metadata": {
        "execution": {
          "iopub.status.busy": "2023-12-14T10:22:53.265534Z",
          "iopub.execute_input": "2023-12-14T10:22:53.265957Z",
          "iopub.status.idle": "2023-12-14T10:22:53.271867Z",
          "shell.execute_reply.started": "2023-12-14T10:22:53.265915Z",
          "shell.execute_reply": "2023-12-14T10:22:53.270767Z"
        },
        "trusted": true,
        "id": "0BUHPt_wkkd8"
      },
      "execution_count": null,
      "outputs": []
    },
    {
      "cell_type": "code",
      "source": [
        "y_train"
      ],
      "metadata": {
        "execution": {
          "iopub.status.busy": "2023-12-14T10:23:01.6022Z",
          "iopub.execute_input": "2023-12-14T10:23:01.602646Z",
          "iopub.status.idle": "2023-12-14T10:23:01.610446Z",
          "shell.execute_reply.started": "2023-12-14T10:23:01.602611Z",
          "shell.execute_reply": "2023-12-14T10:23:01.609127Z"
        },
        "trusted": true,
        "id": "AjC1c7p9kkd8",
        "outputId": "3535e322-1053-4f5a-fd8a-f21f5c391b46",
        "colab": {
          "base_uri": "https://localhost:8080/"
        }
      },
      "execution_count": null,
      "outputs": [
        {
          "output_type": "execute_result",
          "data": {
            "text/plain": [
              "array([[0., 0., 1.],\n",
              "       [0., 1., 0.],\n",
              "       [0., 1., 0.],\n",
              "       ...,\n",
              "       [1., 0., 0.],\n",
              "       [1., 0., 0.],\n",
              "       [0., 0., 1.]], dtype=float32)"
            ]
          },
          "metadata": {},
          "execution_count": 12
        }
      ]
    },
    {
      "cell_type": "code",
      "source": [
        "tokenizer = Tokenizer(num_words=20000)"
      ],
      "metadata": {
        "execution": {
          "iopub.status.busy": "2023-12-14T10:23:39.362492Z",
          "iopub.execute_input": "2023-12-14T10:23:39.362895Z",
          "iopub.status.idle": "2023-12-14T10:23:39.368323Z",
          "shell.execute_reply.started": "2023-12-14T10:23:39.362865Z",
          "shell.execute_reply": "2023-12-14T10:23:39.367182Z"
        },
        "trusted": true,
        "id": "BDWX0SFGkkd8"
      },
      "execution_count": null,
      "outputs": []
    },
    {
      "cell_type": "code",
      "source": [
        "tokenizer.fit_on_texts(x_train)\n",
        "tokenizer.fit_on_texts(x_test)"
      ],
      "metadata": {
        "execution": {
          "iopub.status.busy": "2023-12-14T10:23:41.917313Z",
          "iopub.execute_input": "2023-12-14T10:23:41.917717Z",
          "iopub.status.idle": "2023-12-14T10:23:42.697625Z",
          "shell.execute_reply.started": "2023-12-14T10:23:41.917684Z",
          "shell.execute_reply": "2023-12-14T10:23:42.69618Z"
        },
        "trusted": true,
        "id": "U7MQpowbkkd9"
      },
      "execution_count": null,
      "outputs": []
    },
    {
      "cell_type": "code",
      "source": [
        "len(tokenizer.word_index)"
      ],
      "metadata": {
        "execution": {
          "iopub.status.busy": "2023-12-14T10:23:44.370368Z",
          "iopub.execute_input": "2023-12-14T10:23:44.370738Z",
          "iopub.status.idle": "2023-12-14T10:23:44.377639Z",
          "shell.execute_reply.started": "2023-12-14T10:23:44.370709Z",
          "shell.execute_reply": "2023-12-14T10:23:44.376469Z"
        },
        "trusted": true,
        "id": "ATgY9X7Rkkd9",
        "outputId": "2e71aed5-32a6-4fe1-fe68-30e47d526156",
        "colab": {
          "base_uri": "https://localhost:8080/"
        }
      },
      "execution_count": null,
      "outputs": [
        {
          "output_type": "execute_result",
          "data": {
            "text/plain": [
              "28614"
            ]
          },
          "metadata": {},
          "execution_count": 15
        }
      ]
    },
    {
      "cell_type": "code",
      "source": [
        "x_train = tokenizer.texts_to_sequences(x_train)\n",
        "x_test = tokenizer.texts_to_sequences(x_test)"
      ],
      "metadata": {
        "execution": {
          "iopub.status.busy": "2023-12-14T10:23:46.849098Z",
          "iopub.execute_input": "2023-12-14T10:23:46.849529Z",
          "iopub.status.idle": "2023-12-14T10:23:47.380038Z",
          "shell.execute_reply.started": "2023-12-14T10:23:46.849494Z",
          "shell.execute_reply": "2023-12-14T10:23:47.378827Z"
        },
        "trusted": true,
        "id": "i15Hb9JKkkd9"
      },
      "execution_count": null,
      "outputs": []
    },
    {
      "cell_type": "code",
      "source": [
        "from keras.utils import pad_sequences\n",
        "x_train = pad_sequences(x_train, padding='post', maxlen=35)  # Set maxlen to 35\n",
        "x_test = pad_sequences(x_test, padding='post', maxlen=35)"
      ],
      "metadata": {
        "execution": {
          "iopub.status.busy": "2023-12-14T10:24:49.475223Z",
          "iopub.execute_input": "2023-12-14T10:24:49.475632Z",
          "iopub.status.idle": "2023-12-14T10:24:49.574314Z",
          "shell.execute_reply.started": "2023-12-14T10:24:49.475602Z",
          "shell.execute_reply": "2023-12-14T10:24:49.573218Z"
        },
        "trusted": true,
        "id": "G51QbqKfkkd9"
      },
      "execution_count": null,
      "outputs": []
    },
    {
      "cell_type": "code",
      "source": [
        "x_train[0]"
      ],
      "metadata": {
        "execution": {
          "iopub.status.busy": "2023-12-14T10:25:06.471757Z",
          "iopub.execute_input": "2023-12-14T10:25:06.472161Z",
          "iopub.status.idle": "2023-12-14T10:25:06.479813Z",
          "shell.execute_reply.started": "2023-12-14T10:25:06.472129Z",
          "shell.execute_reply": "2023-12-14T10:25:06.478714Z"
        },
        "trusted": true,
        "id": "ZsxUORMAkkd9",
        "outputId": "88783952-a4ca-4ebd-e699-291b211ab0cb",
        "colab": {
          "base_uri": "https://localhost:8080/"
        }
      },
      "execution_count": null,
      "outputs": [
        {
          "output_type": "execute_result",
          "data": {
            "text/plain": [
              "array([   1,  162,   19, 7713,   71,    1,  151,   49,    0,    0,    0,\n",
              "          0,    0,    0,    0,    0,    0,    0,    0,    0,    0,    0,\n",
              "          0,    0,    0,    0,    0,    0,    0,    0,    0,    0,    0,\n",
              "          0,    0], dtype=int32)"
            ]
          },
          "metadata": {},
          "execution_count": 18
        }
      ]
    },
    {
      "cell_type": "code",
      "source": [
        "x_train.shape"
      ],
      "metadata": {
        "execution": {
          "iopub.status.busy": "2023-12-14T10:26:26.716396Z",
          "iopub.execute_input": "2023-12-14T10:26:26.716795Z",
          "iopub.status.idle": "2023-12-14T10:26:26.724145Z",
          "shell.execute_reply.started": "2023-12-14T10:26:26.716765Z",
          "shell.execute_reply": "2023-12-14T10:26:26.722883Z"
        },
        "trusted": true,
        "id": "sUxRaF22kkd9",
        "outputId": "243b1430-5953-42c6-de99-7bf9153ecbd1",
        "colab": {
          "base_uri": "https://localhost:8080/"
        }
      },
      "execution_count": null,
      "outputs": [
        {
          "output_type": "execute_result",
          "data": {
            "text/plain": [
              "(27481, 35)"
            ]
          },
          "metadata": {},
          "execution_count": 19
        }
      ]
    },
    {
      "cell_type": "code",
      "source": [
        "model = Sequential()\n",
        "model.add(Embedding(input_dim=20000, output_dim=5, input_length=35))\n",
        "model.add(SimpleRNN(32,return_sequences=False))\n",
        "model.add(Dense(3,activation='softmax'))\n",
        "model.summary()"
      ],
      "metadata": {
        "execution": {
          "iopub.status.busy": "2023-12-14T10:26:28.334474Z",
          "iopub.execute_input": "2023-12-14T10:26:28.33484Z",
          "iopub.status.idle": "2023-12-14T10:26:28.452571Z",
          "shell.execute_reply.started": "2023-12-14T10:26:28.33481Z",
          "shell.execute_reply": "2023-12-14T10:26:28.451325Z"
        },
        "trusted": true,
        "id": "pecpHQjrkkd9",
        "outputId": "163c0661-46ee-4043-9944-56ff5ef0a750",
        "colab": {
          "base_uri": "https://localhost:8080/"
        }
      },
      "execution_count": null,
      "outputs": [
        {
          "output_type": "stream",
          "name": "stdout",
          "text": [
            "Model: \"sequential\"\n",
            "_________________________________________________________________\n",
            " Layer (type)                Output Shape              Param #   \n",
            "=================================================================\n",
            " embedding (Embedding)       (None, 35, 5)             100000    \n",
            "                                                                 \n",
            " simple_rnn (SimpleRNN)      (None, 32)                1216      \n",
            "                                                                 \n",
            " dense (Dense)               (None, 3)                 99        \n",
            "                                                                 \n",
            "=================================================================\n",
            "Total params: 101315 (395.76 KB)\n",
            "Trainable params: 101315 (395.76 KB)\n",
            "Non-trainable params: 0 (0.00 Byte)\n",
            "_________________________________________________________________\n"
          ]
        }
      ]
    },
    {
      "cell_type": "code",
      "source": [
        "model.compile(optimizer='adam', loss='categorical_crossentropy', metrics=['accuracy'])"
      ],
      "metadata": {
        "execution": {
          "iopub.status.busy": "2023-12-14T10:27:43.771158Z",
          "iopub.execute_input": "2023-12-14T10:27:43.771566Z",
          "iopub.status.idle": "2023-12-14T10:27:43.784912Z",
          "shell.execute_reply.started": "2023-12-14T10:27:43.771536Z",
          "shell.execute_reply": "2023-12-14T10:27:43.783926Z"
        },
        "trusted": true,
        "id": "25Ohc_iEkkd9"
      },
      "execution_count": null,
      "outputs": []
    },
    {
      "cell_type": "code",
      "source": [
        "history = model.fit(x_train, y_train, epochs=10, validation_data=(x_test, y_test))"
      ],
      "metadata": {
        "execution": {
          "iopub.status.busy": "2023-12-14T10:27:45.426623Z",
          "iopub.execute_input": "2023-12-14T10:27:45.427333Z",
          "iopub.status.idle": "2023-12-14T10:30:08.660072Z",
          "shell.execute_reply.started": "2023-12-14T10:27:45.427298Z",
          "shell.execute_reply": "2023-12-14T10:30:08.658922Z"
        },
        "trusted": true,
        "id": "0RrPHsg1kkd9",
        "outputId": "903dd6dd-da43-4611-bac5-ed4b0692efdc",
        "colab": {
          "base_uri": "https://localhost:8080/"
        }
      },
      "execution_count": null,
      "outputs": [
        {
          "output_type": "stream",
          "name": "stdout",
          "text": [
            "Epoch 1/10\n",
            "859/859 [==============================] - 12s 12ms/step - loss: 0.9698 - accuracy: 0.5092 - val_loss: 0.8256 - val_accuracy: 0.7184\n",
            "Epoch 2/10\n",
            "859/859 [==============================] - 9s 10ms/step - loss: 0.7315 - accuracy: 0.6880 - val_loss: 0.6358 - val_accuracy: 0.7605\n",
            "Epoch 3/10\n",
            "859/859 [==============================] - 10s 12ms/step - loss: 0.5818 - accuracy: 0.7713 - val_loss: 0.6298 - val_accuracy: 0.7556\n",
            "Epoch 4/10\n",
            "859/859 [==============================] - 10s 12ms/step - loss: 0.4762 - accuracy: 0.8228 - val_loss: 0.6575 - val_accuracy: 0.7539\n",
            "Epoch 5/10\n",
            "859/859 [==============================] - 9s 11ms/step - loss: 0.3950 - accuracy: 0.8575 - val_loss: 0.6355 - val_accuracy: 0.7489\n",
            "Epoch 6/10\n",
            "859/859 [==============================] - 9s 10ms/step - loss: 0.3370 - accuracy: 0.8821 - val_loss: 0.7063 - val_accuracy: 0.7448\n",
            "Epoch 7/10\n",
            "859/859 [==============================] - 10s 12ms/step - loss: 0.2879 - accuracy: 0.9029 - val_loss: 0.8885 - val_accuracy: 0.7211\n",
            "Epoch 8/10\n",
            "859/859 [==============================] - 10s 12ms/step - loss: 0.2545 - accuracy: 0.9134 - val_loss: 0.7883 - val_accuracy: 0.7450\n",
            "Epoch 9/10\n",
            "859/859 [==============================] - 9s 11ms/step - loss: 0.2287 - accuracy: 0.9241 - val_loss: 0.8146 - val_accuracy: 0.7383\n",
            "Epoch 10/10\n",
            "859/859 [==============================] - 9s 11ms/step - loss: 0.2028 - accuracy: 0.9335 - val_loss: 0.8950 - val_accuracy: 0.7310\n"
          ]
        }
      ]
    },
    {
      "cell_type": "code",
      "source": [
        "import matplotlib.pyplot as plt\n",
        "plt.plot(history.history['accuracy'])\n",
        "plt.plot(history.history['val_accuracy'])\n",
        "plt.show()"
      ],
      "metadata": {
        "execution": {
          "iopub.status.busy": "2023-12-14T10:30:08.662646Z",
          "iopub.execute_input": "2023-12-14T10:30:08.663096Z",
          "iopub.status.idle": "2023-12-14T10:30:08.870441Z",
          "shell.execute_reply.started": "2023-12-14T10:30:08.663052Z",
          "shell.execute_reply": "2023-12-14T10:30:08.869137Z"
        },
        "trusted": true,
        "id": "tM833Db9kkd9",
        "outputId": "4c697c14-8f16-46f6-e1ee-181f8ac2222f",
        "colab": {
          "base_uri": "https://localhost:8080/",
          "height": 430
        }
      },
      "execution_count": null,
      "outputs": [
        {
          "output_type": "display_data",
          "data": {
            "text/plain": [
              "<Figure size 640x480 with 1 Axes>"
            ],
            "image/png": "[encoded data removed]"
          },
          "metadata": {}
        }
      ]
    },
    {
      "cell_type": "code",
      "source": [
        "# Prediction 1\n",
        "text = \"The movie was bad bad bad, i will not recommend this movie to anyone\"\n",
        "\n",
        "new_text_seq = tokenizer.texts_to_sequences([text])\n",
        "new_text_padded = pad_sequences(new_text_seq, padding='post', maxlen=35)  # Use the max_len determined during training\n",
        "predictions = model.predict(new_text_padded)\n",
        "predicted_class_index = predictions.argmax(axis=-1)\n",
        "if predicted_class_index[0] == 0:\n",
        "    print(\"Postive Sentiment\");\n",
        "elif predicted_class_index[0] == 1:\n",
        "    print(\"Negative Sentiment\")\n",
        "else:\n",
        "    print(\"Neutral Sentiment\")"
      ],
      "metadata": {
        "execution": {
          "iopub.status.busy": "2023-12-14T10:34:34.939823Z",
          "iopub.execute_input": "2023-12-14T10:34:34.941001Z",
          "iopub.status.idle": "2023-12-14T10:34:35.015111Z",
          "shell.execute_reply.started": "2023-12-14T10:34:34.940964Z",
          "shell.execute_reply": "2023-12-14T10:34:35.013862Z"
        },
        "trusted": true,
        "id": "QpqT6rqpkkd-",
        "outputId": "7a367f77-2c24-470a-a476-89d162888fd0",
        "colab": {
          "base_uri": "https://localhost:8080/"
        }
      },
      "execution_count": null,
      "outputs": [
        {
          "output_type": "stream",
          "name": "stdout",
          "text": [
            "1/1 [==============================] - 1s 553ms/step\n",
            "Negative Sentiment\n"
          ]
        }
      ]
    },
    {
      "cell_type": "code",
      "source": [
        "# Prediction 2\n",
        "\n",
        "text = \"The movie was good, i will recommend this movie to anyone\"\n",
        "\n",
        "new_text_seq = tokenizer.texts_to_sequences([text])\n",
        "new_text_padded = pad_sequences(new_text_seq, padding='post', maxlen=35)  # Use the max_len determined during training\n",
        "predictions = model.predict(new_text_padded)\n",
        "predicted_class_index = predictions.argmax(axis=-1)\n",
        "if predicted_class_index[0] == 0:\n",
        "    print(\"Postive Sentiment\");\n",
        "elif predicted_class_index[0] == 1:\n",
        "    print(\"Negative Sentiment\")\n",
        "else:\n",
        "    print(\"Neutral Sentiment\")"
      ],
      "metadata": {
        "execution": {
          "iopub.status.busy": "2023-12-14T10:34:25.79413Z",
          "iopub.execute_input": "2023-12-14T10:34:25.794526Z",
          "iopub.status.idle": "2023-12-14T10:34:25.877423Z",
          "shell.execute_reply.started": "2023-12-14T10:34:25.794488Z",
          "shell.execute_reply": "2023-12-14T10:34:25.876362Z"
        },
        "trusted": true,
        "id": "q4uyQrxdkkd-",
        "outputId": "b0368341-783c-4771-bf07-97dc6f45ed96",
        "colab": {
          "base_uri": "https://localhost:8080/"
        }
      },
      "execution_count": null,
      "outputs": [
        {
          "output_type": "stream",
          "name": "stdout",
          "text": [
            "1/1 [==============================] - 0s 22ms/step\n",
            "Postive Sentiment\n"
          ]
        }
      ]
    },
    {
      "cell_type": "code",
      "source": [],
      "metadata": {
        "id": "I6ML1vmilnY2"
      },
      "execution_count": null,
      "outputs": []
    }
  ]
}